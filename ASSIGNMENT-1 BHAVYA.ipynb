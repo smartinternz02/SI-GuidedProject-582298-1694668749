{
 "cells": [
  {
   "cell_type": "markdown",
   "id": "02199ad3",
   "metadata": {},
   "source": [
    "# VIT ASSIGNMENT-1\n"
   ]
  },
  {
   "cell_type": "markdown",
   "id": "840dcb71",
   "metadata": {},
   "source": [
    "BHAVYA SRI DUGGINA"
   ]
  },
  {
   "cell_type": "markdown",
   "id": "1d61683e",
   "metadata": {},
   "source": [
    "TASK -1 Create a pandas dataframe with numpy randomvalues"
   ]
  },
  {
   "cell_type": "code",
   "execution_count": 1,
   "id": "13a23fca",
   "metadata": {
    "ExecuteTime": {
     "end_time": "2023-09-01T14:19:14.325196Z",
     "start_time": "2023-09-01T14:19:14.025136Z"
    }
   },
   "outputs": [],
   "source": [
    "import pandas as pd \n",
    "import numpy as np\n",
    "from numpy import random\n"
   ]
  },
  {
   "cell_type": "code",
   "execution_count": 2,
   "id": "fe66a8a3",
   "metadata": {
    "ExecuteTime": {
     "end_time": "2023-09-01T14:19:14.356021Z",
     "start_time": "2023-09-01T14:19:14.327794Z"
    }
   },
   "outputs": [],
   "source": [
    "df=pd.DataFrame(random.randint(100,size=(4,4)))"
   ]
  },
  {
   "cell_type": "code",
   "execution_count": 3,
   "id": "840a21f6",
   "metadata": {
    "ExecuteTime": {
     "end_time": "2023-09-01T14:19:14.371585Z",
     "start_time": "2023-09-01T14:19:14.357024Z"
    }
   },
   "outputs": [
    {
     "name": "stdout",
     "output_type": "stream",
     "text": [
      "    0   1   2   3\n",
      "0  93  55  14  57\n",
      "1  75  56  90  58\n",
      "2  95  79  10  61\n",
      "3  58  54  65  61\n"
     ]
    }
   ],
   "source": [
    "print(df)"
   ]
  },
  {
   "cell_type": "markdown",
   "id": "1c923eef",
   "metadata": {},
   "source": [
    "TASK-2   Rename the task - 1 'df' dataframe column names to 'Random value 1', 'Random value 2', 'Random value 3' & 'Random value 4'"
   ]
  },
  {
   "cell_type": "code",
   "execution_count": 4,
   "id": "58d92743",
   "metadata": {
    "ExecuteTime": {
     "end_time": "2023-09-01T14:19:14.387131Z",
     "start_time": "2023-09-01T14:19:14.373571Z"
    }
   },
   "outputs": [],
   "source": [
    "df.rename(columns={0:'Random value 1',1:'Random value 2',2:'Random value 3',3:'Random value 4'},inplace=True)"
   ]
  },
  {
   "cell_type": "code",
   "execution_count": 5,
   "id": "90bdaf1c",
   "metadata": {
    "ExecuteTime": {
     "end_time": "2023-09-01T14:19:14.403180Z",
     "start_time": "2023-09-01T14:19:14.389122Z"
    }
   },
   "outputs": [
    {
     "name": "stdout",
     "output_type": "stream",
     "text": [
      "   Random value 1  Random value 2  Random value 3  Random value 4\n",
      "0              93              55              14              57\n",
      "1              75              56              90              58\n",
      "2              95              79              10              61\n",
      "3              58              54              65              61\n"
     ]
    }
   ],
   "source": [
    "print(df)"
   ]
  },
  {
   "cell_type": "markdown",
   "id": "d6beb740",
   "metadata": {},
   "source": [
    "TASK-3 Find the descriptive statistics of the 'df' dataframe"
   ]
  },
  {
   "cell_type": "code",
   "execution_count": 6,
   "id": "fac35622",
   "metadata": {
    "ExecuteTime": {
     "end_time": "2023-09-01T14:19:14.434013Z",
     "start_time": "2023-09-01T14:19:14.405676Z"
    }
   },
   "outputs": [
    {
     "data": {
      "text/html": [
       "<div>\n",
       "<style scoped>\n",
       "    .dataframe tbody tr th:only-of-type {\n",
       "        vertical-align: middle;\n",
       "    }\n",
       "\n",
       "    .dataframe tbody tr th {\n",
       "        vertical-align: top;\n",
       "    }\n",
       "\n",
       "    .dataframe thead th {\n",
       "        text-align: right;\n",
       "    }\n",
       "</style>\n",
       "<table border=\"1\" class=\"dataframe\">\n",
       "  <thead>\n",
       "    <tr style=\"text-align: right;\">\n",
       "      <th></th>\n",
       "      <th>Random value 1</th>\n",
       "      <th>Random value 2</th>\n",
       "      <th>Random value 3</th>\n",
       "      <th>Random value 4</th>\n",
       "    </tr>\n",
       "  </thead>\n",
       "  <tbody>\n",
       "    <tr>\n",
       "      <th>count</th>\n",
       "      <td>4.00000</td>\n",
       "      <td>4.000000</td>\n",
       "      <td>4.000000</td>\n",
       "      <td>4.000000</td>\n",
       "    </tr>\n",
       "    <tr>\n",
       "      <th>mean</th>\n",
       "      <td>80.25000</td>\n",
       "      <td>61.000000</td>\n",
       "      <td>44.750000</td>\n",
       "      <td>59.250000</td>\n",
       "    </tr>\n",
       "    <tr>\n",
       "      <th>std</th>\n",
       "      <td>17.34695</td>\n",
       "      <td>12.027746</td>\n",
       "      <td>39.203529</td>\n",
       "      <td>2.061553</td>\n",
       "    </tr>\n",
       "    <tr>\n",
       "      <th>min</th>\n",
       "      <td>58.00000</td>\n",
       "      <td>54.000000</td>\n",
       "      <td>10.000000</td>\n",
       "      <td>57.000000</td>\n",
       "    </tr>\n",
       "    <tr>\n",
       "      <th>25%</th>\n",
       "      <td>70.75000</td>\n",
       "      <td>54.750000</td>\n",
       "      <td>13.000000</td>\n",
       "      <td>57.750000</td>\n",
       "    </tr>\n",
       "    <tr>\n",
       "      <th>50%</th>\n",
       "      <td>84.00000</td>\n",
       "      <td>55.500000</td>\n",
       "      <td>39.500000</td>\n",
       "      <td>59.500000</td>\n",
       "    </tr>\n",
       "    <tr>\n",
       "      <th>75%</th>\n",
       "      <td>93.50000</td>\n",
       "      <td>61.750000</td>\n",
       "      <td>71.250000</td>\n",
       "      <td>61.000000</td>\n",
       "    </tr>\n",
       "    <tr>\n",
       "      <th>max</th>\n",
       "      <td>95.00000</td>\n",
       "      <td>79.000000</td>\n",
       "      <td>90.000000</td>\n",
       "      <td>61.000000</td>\n",
       "    </tr>\n",
       "  </tbody>\n",
       "</table>\n",
       "</div>"
      ],
      "text/plain": [
       "       Random value 1  Random value 2  Random value 3  Random value 4\n",
       "count         4.00000        4.000000        4.000000        4.000000\n",
       "mean         80.25000       61.000000       44.750000       59.250000\n",
       "std          17.34695       12.027746       39.203529        2.061553\n",
       "min          58.00000       54.000000       10.000000       57.000000\n",
       "25%          70.75000       54.750000       13.000000       57.750000\n",
       "50%          84.00000       55.500000       39.500000       59.500000\n",
       "75%          93.50000       61.750000       71.250000       61.000000\n",
       "max          95.00000       79.000000       90.000000       61.000000"
      ]
     },
     "execution_count": 6,
     "metadata": {},
     "output_type": "execute_result"
    }
   ],
   "source": [
    "df.describe()"
   ]
  },
  {
   "cell_type": "markdown",
   "id": "d8645934",
   "metadata": {
    "ExecuteTime": {
     "end_time": "2023-08-30T16:19:35.777840Z",
     "start_time": "2023-08-30T16:19:35.771839Z"
    }
   },
   "source": [
    "TASK-4 check for the null values and find the datatype of columns"
   ]
  },
  {
   "cell_type": "markdown",
   "id": "109fb78f",
   "metadata": {},
   "source": [
    "1.check null values"
   ]
  },
  {
   "cell_type": "code",
   "execution_count": 7,
   "id": "1887eb9f",
   "metadata": {
    "ExecuteTime": {
     "end_time": "2023-09-01T14:19:14.449282Z",
     "start_time": "2023-09-01T14:19:14.436086Z"
    }
   },
   "outputs": [
    {
     "data": {
      "text/html": [
       "<div>\n",
       "<style scoped>\n",
       "    .dataframe tbody tr th:only-of-type {\n",
       "        vertical-align: middle;\n",
       "    }\n",
       "\n",
       "    .dataframe tbody tr th {\n",
       "        vertical-align: top;\n",
       "    }\n",
       "\n",
       "    .dataframe thead th {\n",
       "        text-align: right;\n",
       "    }\n",
       "</style>\n",
       "<table border=\"1\" class=\"dataframe\">\n",
       "  <thead>\n",
       "    <tr style=\"text-align: right;\">\n",
       "      <th></th>\n",
       "      <th>Random value 1</th>\n",
       "      <th>Random value 2</th>\n",
       "      <th>Random value 3</th>\n",
       "      <th>Random value 4</th>\n",
       "    </tr>\n",
       "  </thead>\n",
       "  <tbody>\n",
       "    <tr>\n",
       "      <th>0</th>\n",
       "      <td>False</td>\n",
       "      <td>False</td>\n",
       "      <td>False</td>\n",
       "      <td>False</td>\n",
       "    </tr>\n",
       "    <tr>\n",
       "      <th>1</th>\n",
       "      <td>False</td>\n",
       "      <td>False</td>\n",
       "      <td>False</td>\n",
       "      <td>False</td>\n",
       "    </tr>\n",
       "    <tr>\n",
       "      <th>2</th>\n",
       "      <td>False</td>\n",
       "      <td>False</td>\n",
       "      <td>False</td>\n",
       "      <td>False</td>\n",
       "    </tr>\n",
       "    <tr>\n",
       "      <th>3</th>\n",
       "      <td>False</td>\n",
       "      <td>False</td>\n",
       "      <td>False</td>\n",
       "      <td>False</td>\n",
       "    </tr>\n",
       "  </tbody>\n",
       "</table>\n",
       "</div>"
      ],
      "text/plain": [
       "   Random value 1  Random value 2  Random value 3  Random value 4\n",
       "0           False           False           False           False\n",
       "1           False           False           False           False\n",
       "2           False           False           False           False\n",
       "3           False           False           False           False"
      ]
     },
     "execution_count": 7,
     "metadata": {},
     "output_type": "execute_result"
    }
   ],
   "source": [
    "df.isnull()"
   ]
  },
  {
   "cell_type": "markdown",
   "id": "fb0673a6",
   "metadata": {
    "ExecuteTime": {
     "end_time": "2023-08-30T16:14:50.938044Z",
     "start_time": "2023-08-30T16:14:50.552136Z"
    }
   },
   "source": [
    "2.Find datatype of columns"
   ]
  },
  {
   "cell_type": "code",
   "execution_count": 8,
   "id": "2ca2ba4d",
   "metadata": {
    "ExecuteTime": {
     "end_time": "2023-09-01T14:19:14.465265Z",
     "start_time": "2023-09-01T14:19:14.452275Z"
    }
   },
   "outputs": [
    {
     "data": {
      "text/plain": [
       "Random value 1    int32\n",
       "Random value 2    int32\n",
       "Random value 3    int32\n",
       "Random value 4    int32\n",
       "dtype: object"
      ]
     },
     "execution_count": 8,
     "metadata": {},
     "output_type": "execute_result"
    }
   ],
   "source": [
    "df.dtypes"
   ]
  },
  {
   "cell_type": "markdown",
   "id": "db58fdfc",
   "metadata": {},
   "source": [
    "combinely finding both dtype and null values"
   ]
  },
  {
   "cell_type": "code",
   "execution_count": 9,
   "id": "8ab09e99",
   "metadata": {
    "ExecuteTime": {
     "end_time": "2023-09-01T14:19:14.480328Z",
     "start_time": "2023-09-01T14:19:14.467718Z"
    }
   },
   "outputs": [
    {
     "name": "stdout",
     "output_type": "stream",
     "text": [
      "<class 'pandas.core.frame.DataFrame'>\n",
      "RangeIndex: 4 entries, 0 to 3\n",
      "Data columns (total 4 columns):\n",
      " #   Column          Non-Null Count  Dtype\n",
      "---  ------          --------------  -----\n",
      " 0   Random value 1  4 non-null      int32\n",
      " 1   Random value 2  4 non-null      int32\n",
      " 2   Random value 3  4 non-null      int32\n",
      " 3   Random value 4  4 non-null      int32\n",
      "dtypes: int32(4)\n",
      "memory usage: 192.0 bytes\n"
     ]
    }
   ],
   "source": [
    "df.info()"
   ]
  },
  {
   "cell_type": "markdown",
   "id": "c462297d",
   "metadata": {},
   "source": [
    "TASK-5 Display the 'Random value 2' & 'Random value 3' columns with location method"
   ]
  },
  {
   "cell_type": "code",
   "execution_count": 10,
   "id": "0cc9a50b",
   "metadata": {
    "ExecuteTime": {
     "end_time": "2023-09-01T14:19:14.510355Z",
     "start_time": "2023-09-01T14:19:14.487245Z"
    }
   },
   "outputs": [
    {
     "data": {
      "text/html": [
       "<div>\n",
       "<style scoped>\n",
       "    .dataframe tbody tr th:only-of-type {\n",
       "        vertical-align: middle;\n",
       "    }\n",
       "\n",
       "    .dataframe tbody tr th {\n",
       "        vertical-align: top;\n",
       "    }\n",
       "\n",
       "    .dataframe thead th {\n",
       "        text-align: right;\n",
       "    }\n",
       "</style>\n",
       "<table border=\"1\" class=\"dataframe\">\n",
       "  <thead>\n",
       "    <tr style=\"text-align: right;\">\n",
       "      <th></th>\n",
       "      <th>Random value 2</th>\n",
       "      <th>Random value 3</th>\n",
       "    </tr>\n",
       "  </thead>\n",
       "  <tbody>\n",
       "    <tr>\n",
       "      <th>0</th>\n",
       "      <td>55</td>\n",
       "      <td>14</td>\n",
       "    </tr>\n",
       "    <tr>\n",
       "      <th>1</th>\n",
       "      <td>56</td>\n",
       "      <td>90</td>\n",
       "    </tr>\n",
       "    <tr>\n",
       "      <th>2</th>\n",
       "      <td>79</td>\n",
       "      <td>10</td>\n",
       "    </tr>\n",
       "    <tr>\n",
       "      <th>3</th>\n",
       "      <td>54</td>\n",
       "      <td>65</td>\n",
       "    </tr>\n",
       "  </tbody>\n",
       "</table>\n",
       "</div>"
      ],
      "text/plain": [
       "   Random value 2  Random value 3\n",
       "0              55              14\n",
       "1              56              90\n",
       "2              79              10\n",
       "3              54              65"
      ]
     },
     "execution_count": 10,
     "metadata": {},
     "output_type": "execute_result"
    }
   ],
   "source": [
    "df.loc[:,'Random value 2':'Random value 3']"
   ]
  },
  {
   "cell_type": "code",
   "execution_count": 11,
   "id": "89cc19d5",
   "metadata": {
    "ExecuteTime": {
     "end_time": "2023-09-01T14:19:14.525464Z",
     "start_time": "2023-09-01T14:19:14.513343Z"
    }
   },
   "outputs": [
    {
     "data": {
      "text/html": [
       "<div>\n",
       "<style scoped>\n",
       "    .dataframe tbody tr th:only-of-type {\n",
       "        vertical-align: middle;\n",
       "    }\n",
       "\n",
       "    .dataframe tbody tr th {\n",
       "        vertical-align: top;\n",
       "    }\n",
       "\n",
       "    .dataframe thead th {\n",
       "        text-align: right;\n",
       "    }\n",
       "</style>\n",
       "<table border=\"1\" class=\"dataframe\">\n",
       "  <thead>\n",
       "    <tr style=\"text-align: right;\">\n",
       "      <th></th>\n",
       "      <th>Random value 2</th>\n",
       "      <th>Random value 3</th>\n",
       "    </tr>\n",
       "  </thead>\n",
       "  <tbody>\n",
       "    <tr>\n",
       "      <th>0</th>\n",
       "      <td>55</td>\n",
       "      <td>14</td>\n",
       "    </tr>\n",
       "    <tr>\n",
       "      <th>1</th>\n",
       "      <td>56</td>\n",
       "      <td>90</td>\n",
       "    </tr>\n",
       "    <tr>\n",
       "      <th>2</th>\n",
       "      <td>79</td>\n",
       "      <td>10</td>\n",
       "    </tr>\n",
       "    <tr>\n",
       "      <th>3</th>\n",
       "      <td>54</td>\n",
       "      <td>65</td>\n",
       "    </tr>\n",
       "  </tbody>\n",
       "</table>\n",
       "</div>"
      ],
      "text/plain": [
       "   Random value 2  Random value 3\n",
       "0              55              14\n",
       "1              56              90\n",
       "2              79              10\n",
       "3              54              65"
      ]
     },
     "execution_count": 11,
     "metadata": {},
     "output_type": "execute_result"
    }
   ],
   "source": [
    "df.iloc[:,1:3]"
   ]
  },
  {
   "cell_type": "markdown",
   "id": "c923db91",
   "metadata": {},
   "source": [
    "THE END           "
   ]
  },
  {
   "cell_type": "markdown",
   "id": "96da25fd",
   "metadata": {},
   "source": [
    "THANK YOU"
   ]
  },
  {
   "cell_type": "markdown",
   "id": "7ee64632",
   "metadata": {},
   "source": [
    "BHAVYA SRI DUGGINA"
   ]
  },
  {
   "cell_type": "code",
   "execution_count": 12,
   "id": "d3174bca",
   "metadata": {
    "ExecuteTime": {
     "end_time": "2023-09-01T14:19:30.267318Z",
     "start_time": "2023-09-01T14:19:29.837175Z"
    }
   },
   "outputs": [
    {
     "ename": "TypeError",
     "evalue": "Cannot interpret '4' as a data type",
     "output_type": "error",
     "traceback": [
      "\u001b[1;31m---------------------------------------------------------------------------\u001b[0m",
      "\u001b[1;31mTypeError\u001b[0m                                 Traceback (most recent call last)",
      "Cell \u001b[1;32mIn[12], line 1\u001b[0m\n\u001b[1;32m----> 1\u001b[0m \u001b[43mnp\u001b[49m\u001b[38;5;241;43m.\u001b[39;49m\u001b[43mzeros\u001b[49m\u001b[43m(\u001b[49m\u001b[38;5;241;43m3\u001b[39;49m\u001b[43m,\u001b[49m\u001b[43m \u001b[49m\u001b[38;5;241;43m4\u001b[39;49m\u001b[43m)\u001b[49m\n",
      "\u001b[1;31mTypeError\u001b[0m: Cannot interpret '4' as a data type"
     ]
    }
   ],
   "source": [
    "np.zeros(3, 4)"
   ]
  },
  {
   "cell_type": "code",
   "execution_count": 13,
   "id": "3bb91b77",
   "metadata": {
    "ExecuteTime": {
     "end_time": "2023-09-01T14:19:44.992408Z",
     "start_time": "2023-09-01T14:19:44.971599Z"
    }
   },
   "outputs": [
    {
     "data": {
      "text/plain": [
       "array([[0., 0., 0., 0.],\n",
       "       [0., 0., 0., 0.],\n",
       "       [0., 0., 0., 0.]])"
      ]
     },
     "execution_count": 13,
     "metadata": {},
     "output_type": "execute_result"
    }
   ],
   "source": [
    "np.zeros((3, 4))"
   ]
  },
  {
   "cell_type": "code",
   "execution_count": 14,
   "id": "a9ae3ccb",
   "metadata": {
    "ExecuteTime": {
     "end_time": "2023-09-01T14:21:09.705349Z",
     "start_time": "2023-09-01T14:21:09.686701Z"
    }
   },
   "outputs": [
    {
     "data": {
      "text/plain": [
       "0    93\n",
       "1    75\n",
       "2    95\n",
       "3    58\n",
       "Name: Random value 1, dtype: int32"
      ]
     },
     "execution_count": 14,
     "metadata": {},
     "output_type": "execute_result"
    }
   ],
   "source": [
    "df['Random value 1']"
   ]
  },
  {
   "cell_type": "code",
   "execution_count": null,
   "id": "d8e30a3d",
   "metadata": {},
   "outputs": [],
   "source": []
  }
 ],
 "metadata": {
  "hide_input": false,
  "kernelspec": {
   "display_name": "Python 3 (ipykernel)",
   "language": "python",
   "name": "python3"
  },
  "language_info": {
   "codemirror_mode": {
    "name": "ipython",
    "version": 3
   },
   "file_extension": ".py",
   "mimetype": "text/x-python",
   "name": "python",
   "nbconvert_exporter": "python",
   "pygments_lexer": "ipython3",
   "version": "3.10.9"
  },
  "nbTranslate": {
   "displayLangs": [
    "*"
   ],
   "hotkey": "alt-t",
   "langInMainMenu": true,
   "sourceLang": "en",
   "targetLang": "fr",
   "useGoogleTranslate": true
  },
  "toc": {
   "base_numbering": 1,
   "nav_menu": {},
   "number_sections": true,
   "sideBar": true,
   "skip_h1_title": false,
   "title_cell": "Table of Contents",
   "title_sidebar": "Contents",
   "toc_cell": false,
   "toc_position": {},
   "toc_section_display": true,
   "toc_window_display": false
  },
  "varInspector": {
   "cols": {
    "lenName": 16,
    "lenType": 16,
    "lenVar": 40
   },
   "kernels_config": {
    "python": {
     "delete_cmd_postfix": "",
     "delete_cmd_prefix": "del ",
     "library": "var_list.py",
     "varRefreshCmd": "print(var_dic_list())"
    },
    "r": {
     "delete_cmd_postfix": ") ",
     "delete_cmd_prefix": "rm(",
     "library": "var_list.r",
     "varRefreshCmd": "cat(var_dic_list()) "
    }
   },
   "types_to_exclude": [
    "module",
    "function",
    "builtin_function_or_method",
    "instance",
    "_Feature"
   ],
   "window_display": false
  }
 },
 "nbformat": 4,
 "nbformat_minor": 5
}
